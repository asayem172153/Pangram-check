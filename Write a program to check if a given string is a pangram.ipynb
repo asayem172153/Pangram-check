{
  "nbformat": 4,
  "nbformat_minor": 0,
  "metadata": {
    "colab": {
      "provenance": []
    },
    "kernelspec": {
      "name": "python3",
      "display_name": "Python 3"
    },
    "language_info": {
      "name": "python"
    }
  },
  "cells": [
    {
      "cell_type": "markdown",
      "source": [
        "**General approach with only alphabet holding strings**"
      ],
      "metadata": {
        "id": "ikIBsf9uzijJ"
      }
    },
    {
      "cell_type": "code",
      "execution_count": null,
      "metadata": {
        "colab": {
          "base_uri": "https://localhost:8080/"
        },
        "id": "JcePOTqyF9nt",
        "outputId": "028c61cb-bf55-4ab6-94bf-34345cf94f0d"
      },
      "outputs": [
        {
          "output_type": "stream",
          "name": "stdout",
          "text": [
            "Panagram\n"
          ]
        }
      ],
      "source": [
        "string = 'AaBbccddeeffgghhiijjkkllmmnnooppqqrrssttuvvwwxxyyz'\n",
        "\n",
        "string = string.lower()\n",
        "\n",
        "s = set(string)\n",
        "\n",
        "\n",
        "if len(s)==26:\n",
        "  print('Panagram')\n",
        "else:\n",
        "  print('Not Panagram')"
      ]
    },
    {
      "cell_type": "markdown",
      "source": [
        "**Another Approach with symbol number mixing string**"
      ],
      "metadata": {
        "id": "NZmwgypMzrhy"
      }
    },
    {
      "cell_type": "code",
      "source": [
        "string = 'AaBbccddeeffgghhiijjkklllks0141.jdnnooppqqrrssttuvvwwxxyyz'\n",
        "\n",
        "string = string.lower()\n",
        "panagram = ''  # here we can use panagram = set()\n",
        "\n",
        "for i in string:\n",
        "  if i >= 'a' and i <= 'z' :\n",
        "    if i not in panagram: # and simply write the code instead of this :\n",
        "      panagram += i       # panagram.add(i) (no need any if condition)\n",
        "\n",
        "if len(panagram) == 26:\n",
        "  print('Panagram')\n",
        "else:\n",
        "  print('Not Panagram')"
      ],
      "metadata": {
        "id": "5ueBSxFXz2ug",
        "colab": {
          "base_uri": "https://localhost:8080/"
        },
        "outputId": "ff6d7d6c-0ad1-478c-82fe-3270d8dde107"
      },
      "execution_count": 13,
      "outputs": [
        {
          "output_type": "stream",
          "name": "stdout",
          "text": [
            "Not Panagram\n"
          ]
        }
      ]
    }
  ]
}